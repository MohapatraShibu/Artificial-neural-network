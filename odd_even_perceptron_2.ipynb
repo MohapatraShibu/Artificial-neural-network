{
  "nbformat": 4,
  "nbformat_minor": 0,
  "metadata": {
    "colab": {
      "name": "odd even perceptron 2.ipynb",
      "provenance": [],
      "collapsed_sections": []
    },
    "kernelspec": {
      "name": "python3",
      "display_name": "Python 3"
    },
    "language_info": {
      "name": "python"
    }
  },
  "cells": [
    {
      "cell_type": "markdown",
      "source": [
        "Shibu Mohapatra\n",
        "\n",
        "Artificial intelligence"
      ],
      "metadata": {
        "id": "5-2WHjRuP43f"
      }
    },
    {
      "cell_type": "markdown",
      "metadata": {
        "id": "h8tZSUaU1quB"
      },
      "source": [
        "**Design and train perceptron for identifying ODD and EVEN number based on different conditions.**"
      ]
    },
    {
      "cell_type": "code",
      "source": [
        "!pip install scikit-opt"
      ],
      "metadata": {
        "id": "Tldd2H7fQplx",
        "colab": {
          "base_uri": "https://localhost:8080/"
        },
        "outputId": "ebeb42f6-f4e6-44ba-d478-ccaa06ed2046"
      },
      "execution_count": 1,
      "outputs": [
        {
          "output_type": "stream",
          "name": "stdout",
          "text": [
            "Collecting scikit-opt\n",
            "  Downloading scikit_opt-0.6.6-py3-none-any.whl (35 kB)\n",
            "Requirement already satisfied: numpy in /usr/local/lib/python3.7/dist-packages (from scikit-opt) (1.19.5)\n",
            "Requirement already satisfied: scipy in /usr/local/lib/python3.7/dist-packages (from scikit-opt) (1.4.1)\n",
            "Installing collected packages: scikit-opt\n",
            "Successfully installed scikit-opt-0.6.6\n"
          ]
        }
      ]
    },
    {
      "cell_type": "code",
      "metadata": {
        "id": "bP3Q48KOyZU6"
      },
      "source": [
        "import numpy as np\n",
        "\n",
        "def layer_1_z(x, w1, b1):\n",
        "    return 1 / w1 * x + b1\n",
        "\n",
        "def layer_2(x, w1, b1, w2, b2):\n",
        "    y1 = layer_1_z(x, w1, b1)\n",
        "    y2 = y1 - np.floor(y1)\n",
        "    return w2 * y2 + b2\n",
        "\n",
        "def layer_2_activation(x, w1, b1, w2, b2):\n",
        "    y2 = layer_2(x, w1, b1, w2, b2)\n",
        "    # return 1 / (1 + np.exp(-y2))\n",
        "    return (y2 > 0) * 1\n",
        "\n",
        "def loss(param):\n",
        "    w1, b1, w2, b2 = param\n",
        "    x = np.arange(0, 10, 1)\n",
        "    y_hat = layer_2_activation(x, w1, b1, w2, b2)\n",
        "    y_true = (x % 7 > 0) * 1\n",
        "    return sum(np.square(y_hat - y_true))"
      ],
      "execution_count": 2,
      "outputs": []
    },
    {
      "cell_type": "code",
      "metadata": {
        "colab": {
          "base_uri": "https://localhost:8080/"
        },
        "id": "CvmEE30hyuyZ",
        "outputId": "5d9107b1-d5b1-46c3-ae7b-88ef87e08424"
      },
      "source": [
        "from sko.GA import GA\n",
        "\n",
        "ga = GA(func=loss, n_dim=4, size_pop=50, max_iter=100, lb=[1, 0, 1, 0], ub=[32, 1, 2, 1], precision=1)\n",
        "best_x, best_y = ga.run()\n",
        "print('best_x:', best_x, '\\n', 'best_y:', best_y)\n",
        "\n",
        "for x in range(1, 30):\n",
        "    y_hat = layer_2_activation(x, *best_x)\n",
        "    print('input:{},divide by 7:{}'.format(x, y_hat == 0))"
      ],
      "execution_count": 3,
      "outputs": [
        {
          "output_type": "stream",
          "name": "stdout",
          "text": [
            "best_x: [32.  1.  2.  0.] \n",
            " best_y: [1]\n",
            "input:1,divide by 7:False\n",
            "input:2,divide by 7:False\n",
            "input:3,divide by 7:False\n",
            "input:4,divide by 7:False\n",
            "input:5,divide by 7:False\n",
            "input:6,divide by 7:False\n",
            "input:7,divide by 7:False\n",
            "input:8,divide by 7:False\n",
            "input:9,divide by 7:False\n",
            "input:10,divide by 7:False\n",
            "input:11,divide by 7:False\n",
            "input:12,divide by 7:False\n",
            "input:13,divide by 7:False\n",
            "input:14,divide by 7:False\n",
            "input:15,divide by 7:False\n",
            "input:16,divide by 7:False\n",
            "input:17,divide by 7:False\n",
            "input:18,divide by 7:False\n",
            "input:19,divide by 7:False\n",
            "input:20,divide by 7:False\n",
            "input:21,divide by 7:False\n",
            "input:22,divide by 7:False\n",
            "input:23,divide by 7:False\n",
            "input:24,divide by 7:False\n",
            "input:25,divide by 7:False\n",
            "input:26,divide by 7:False\n",
            "input:27,divide by 7:False\n",
            "input:28,divide by 7:False\n",
            "input:29,divide by 7:False\n"
          ]
        }
      ]
    }
  ]
}