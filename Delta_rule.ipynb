{
  "nbformat": 4,
  "nbformat_minor": 0,
  "metadata": {
    "colab": {
      "name": "Delta rule.ipynb",
      "provenance": [],
      "collapsed_sections": []
    },
    "kernelspec": {
      "name": "python3",
      "display_name": "Python 3"
    },
    "language_info": {
      "name": "python"
    }
  },
  "cells": [
    {
      "cell_type": "markdown",
      "source": [
        "Shibu Mohapatra\n",
        "\n",
        "Artificial Intelligence"
      ],
      "metadata": {
        "id": "IDGVUX9hlWk6"
      }
    },
    {
      "cell_type": "markdown",
      "metadata": {
        "id": "Jver4jDT1u1N"
      },
      "source": [
        "**Write a program to implement Delta rule.**"
      ]
    },
    {
      "cell_type": "code",
      "metadata": {
        "colab": {
          "base_uri": "https://localhost:8080/",
          "height": 267
        },
        "id": "WLwvhuJU3RsT",
        "outputId": "3aa97226-4f20-4045-c3fd-b9689c2188ac"
      },
      "source": [
        "import numpy as np\n",
        "import matplotlib.pyplot as plt\n",
        "\n",
        "# the number of data points per class\n",
        "num_points = 20\n",
        "\n",
        "# data points for class -1\n",
        "data1 = np.random.multivariate_normal([1,1], [[0.8, 0.6],[0.6, 0.7]], num_points)\n",
        "# data points for class 1\n",
        "data2 = np.random.multivariate_normal([1,-1], [[0.8, 0.6],[0.6, 0.7]], num_points)\n",
        "\n",
        "# plot both arrays\n",
        "# note that arrays are indexed [row, col]\n",
        "plt.scatter(data1[:,0], data1[:,1], c='green')\n",
        "plt.scatter(data2[:,0], data2[:,1], c='blue')\n",
        "plt.show()"
      ],
      "execution_count": 1,
      "outputs": [
        {
          "output_type": "display_data",
          "data": {
            "image/png": "[encoded data removed]",
            "text/plain": [
              "<Figure size 432x288 with 1 Axes>"
            ]
          },
          "metadata": {
            "needs_background": "light"
          }
        }
      ]
    },
    {
      "cell_type": "code",
      "metadata": {
        "colab": {
          "base_uri": "https://localhost:8080/"
        },
        "id": "CfRlNMuU3YK0",
        "outputId": "e223cc0c-2230-484e-9e87-092499ccf05f"
      },
      "source": [
        "# we create one dataset with the class attribute\n",
        "# 1) add one column with the class label\n",
        "# create the class labels for both classes\n",
        "c0 = - np.ones([num_points, 1])\n",
        "c1 = np.ones([num_points, 1])\n",
        "# append the class labels to both datasets\n",
        "data1 = np.append(data1, c0, axis=1)\n",
        "data2 = np.append(data2, c1, axis=1)\n",
        "# 2) combine the two classes in one data array\n",
        "data = np.append(data1, data2, axis=0)\n",
        "\n",
        "# we shuffle the data by rows because we want positive and negative examples to be interleaved; the algorithm below will update the weights after processing one data example\n",
        "np.random.shuffle(data)\n",
        "\n",
        "# print the first 5 rows to see what the data looks like\n",
        "print(data[:5])"
      ],
      "execution_count": 2,
      "outputs": [
        {
          "output_type": "stream",
          "name": "stdout",
          "text": [
            "[[ 1.25417684 -1.39316656  1.        ]\n",
            " [ 1.15265869  1.04247086 -1.        ]\n",
            " [ 0.90804521 -1.55141543  1.        ]\n",
            " [ 1.01883423 -1.4530016   1.        ]\n",
            " [ 0.39017284 -2.14597111  1.        ]]\n"
          ]
        }
      ]
    },
    {
      "cell_type": "code",
      "metadata": {
        "colab": {
          "base_uri": "https://localhost:8080/",
          "height": 267
        },
        "id": "GMS0EKJI3c-O",
        "outputId": "109e6cb4-4adf-46ca-f005-5ba2a176bed7"
      },
      "source": [
        "plt.scatter(data[:,0], data[:,1], c=data[:,2] )\n",
        "plt.show()"
      ],
      "execution_count": 3,
      "outputs": [
        {
          "output_type": "display_data",
          "data": {
            "image/png": "[encoded data removed]",
            "text/plain": [
              "<Figure size 432x288 with 1 Axes>"
            ]
          },
          "metadata": {
            "needs_background": "light"
          }
        }
      ]
    },
    {
      "cell_type": "code",
      "metadata": {
        "colab": {
          "base_uri": "https://localhost:8080/"
        },
        "id": "4sYCUYrh3jR6",
        "outputId": "3aaf116c-2a29-4cdc-cb79-de61580893f0"
      },
      "source": [
        "# A coroutine that receives data and prints it\n",
        "def printer():\n",
        "    i = 0\n",
        "    line=\"\"\n",
        "    while True:\n",
        "        vec = yield\n",
        "        if vec.size == 1:\n",
        "            if i > 0:\n",
        "                # print anything that is left in the buffer\n",
        "                print(line)\n",
        "                i = 0\n",
        "                line = \"\"\n",
        "        else:\n",
        "            i = i + 1\n",
        "            line = line + \" \" + str(np.round(vec,4))\n",
        "            if i % 4 == 0:\n",
        "                print(line)\n",
        "                line = \"\"\n",
        "                i = 0\n",
        "\n",
        "printer_handler = printer()\n",
        "# start the printer\n",
        "printer_handler.send(None)\n",
        "\n",
        "# we need 3 parameters: one for x, one for y, and one for the bias term\n",
        "w = np.random.normal(0, 0.5, 3)\n",
        "# learning rate\n",
        "epsilon = 0.05\n",
        "delta = 100\n",
        "iteration = 0\n",
        "precision=0.01\n",
        "\n",
        "while delta > precision and iteration < 10:\n",
        "    iteration = iteration + 1\n",
        "    # to be consistent with the textbook, we will process one data point at a time\n",
        "    for s in data:\n",
        "        # compute the linear activation (predicted output)\n",
        "        s_with_bias = np.copy(s)\n",
        "        s_with_bias[2] = 1 # the last element is used as the bias activation\n",
        "        o_k =  w.dot(s_with_bias) # see Eq. 5.6 in O'reilly & Munakata (2000)\n",
        "        t_k = s[2]\n",
        "        # the delta rule equation in the vector form\n",
        "        delta_w = epsilon * (t_k - o_k) * s_with_bias # see Eq. 5.3\n",
        "        w = w + delta_w\n",
        "        # if the max change is tiny, we will stop learning in the while loop\n",
        "        delta=np.max(np.absolute(delta_w))\n",
        "        # print the current weights\n",
        "        printer_handler.send(w)\n",
        "\n",
        "# print the remaining values if there are any\n",
        "printer_handler.send(np.zeros([1,1]))"
      ],
      "execution_count": 4,
      "outputs": [
        {
          "output_type": "stream",
          "name": "stdout",
          "text": [
            " [0.4921 0.9596 0.7947] [0.2983 0.7844 0.6266] [0.3582 0.682  0.6926] [0.4058 0.6142 0.7392]\n",
            " [0.4335 0.4618 0.8103] [0.3824 0.342  0.6881] [0.2286 0.2481 0.5663] [0.1863 0.0683 0.6303]\n",
            " [ 0.0188 -0.0743  0.5287] [-0.0444 -0.1943  0.4577] [-0.0602 -0.2284  0.3902] [-0.0025 -0.2274  0.4259]\n",
            " [ 0.0257 -0.2454  0.4426] [-0.0196 -0.2845  0.3769] [-0.0101 -0.3013  0.3889] [-0.0954 -0.3549  0.3353]\n",
            " [ 0.0952 -0.2819  0.4017] [ 0.0618 -0.2783  0.3288] [ 0.0672 -0.2945  0.3392] [ 0.0844 -0.3026  0.3655]\n",
            " [ 0.0396 -0.3703  0.3131] [-0.0186 -0.4256  0.2932] [-0.0008 -0.4386  0.3037] [-0.0201 -0.474   0.2541]\n",
            " [-0.0021 -0.4893  0.2718] [ 0.0137 -0.5024  0.2862] [ 0.0775 -0.5118  0.3103] [ 0.0774 -0.5111  0.3098]\n",
            " [ 0.1728 -0.4733  0.357 ] [ 0.0868 -0.5127  0.292 ] [ 0.037  -0.5612  0.2558] [-0.0089 -0.5987  0.22  ]\n",
            " [-0.0235 -0.6239  0.2025] [-0.002  -0.6423  0.1535] [ 0.0117 -0.6562  0.1745] [-0.0053 -0.6778  0.158 ]\n",
            " [-0.031  -0.6956  0.1441] [ 0.109  -0.5763  0.1875] [ 0.1155 -0.584   0.1953] [ 0.1148 -0.5835  0.1949]\n"
          ]
        }
      ]
    },
    {
      "cell_type": "code",
      "metadata": {
        "colab": {
          "base_uri": "https://localhost:8080/",
          "height": 266
        },
        "id": "Eo7xCyF03r4P",
        "outputId": "9849a11d-7302-42c9-a146-d080c567b8ff"
      },
      "source": [
        "# plot the final line\n",
        "\n",
        "# construct the line using 100 points\n",
        "x = np.linspace(np.min(data[:,0]),np.max(data[:,0]),100)\n",
        "# this equation corresponds to our decision boundary on the xy-plane when the threshold is zero\n",
        "y = -w[0]/w[1]*x-w[2]/w[1]\n",
        "ymin = np.min(data[:,1])\n",
        "ymax = np.max(data[:,1])\n",
        "\n",
        "# plot the data and the line\n",
        "plt.ylim(ymin-0.3, ymax+0.3)\n",
        "# plot two classes separately\n",
        "plt.scatter(data1[:,0], data1[:,1], c='green', label='Class -1' )\n",
        "plt.scatter(data2[:,0], data2[:,1], c='blue', label='Class 1' )\n",
        "plt.plot(x, y, '-r', label='boundary')\n",
        "plt.legend()\n",
        "plt.show()"
      ],
      "execution_count": 5,
      "outputs": [
        {
          "output_type": "display_data",
          "data": {
            "image/png": "[encoded data removed]",
            "text/plain": [
              "<Figure size 432x288 with 1 Axes>"
            ]
          },
          "metadata": {
            "needs_background": "light"
          }
        }
      ]
    },
    {
      "cell_type": "code",
      "metadata": {
        "colab": {
          "base_uri": "https://localhost:8080/"
        },
        "id": "hCFMFN8r30FU",
        "outputId": "fceebe98-d866-47bc-c468-b748aa633655"
      },
      "source": [
        "# we need to add bias activations in the last column\n",
        "data_with_bias = np.copy(data)\n",
        "data_with_bias[:,2]=1\n",
        "\n",
        "# predictions are the outputs computed by the linear model\n",
        "predictions = w.dot(data_with_bias.transpose())\n",
        "\n",
        "# compute the summed squared error with respect to the linear activation; i.e., we want to see see how well the linear function approximates the values of our class attribute\n",
        "SSE = np.sum(np.square(predictions-data[:,2]))\n",
        "\n",
        "# this is the same threshold that we used to derive the red decision boundary above; with this threshold, our classification below will be consistent with the red line above\n",
        "threshold = 0\n",
        "\n",
        "# apply threshold to make discrete decisions\n",
        "predictions[predictions<threshold] = -1\n",
        "predictions[predictions>=threshold] = 1\n",
        "# print(predictions)\n",
        "# print(data[:,2])\n",
        "\n",
        "# diff will be zero when the classification is correct\n",
        "diff = predictions - data[:,2]\n",
        "# indices of data items with incorrect predictions\n",
        "erroneous = diff.nonzero()[0]\n",
        "# count the number of incorrect predictions\n",
        "accuracy = np.size(erroneous)\n",
        "\n",
        "print(\"SSE on training data: \" + str(SSE) )\n",
        "print(\"Number of errors on training data: \" + str(accuracy) )"
      ],
      "execution_count": 6,
      "outputs": [
        {
          "output_type": "stream",
          "name": "stdout",
          "text": [
            "SSE on training data: 15.027952856480772\n",
            "Number of errors on training data: 3\n"
          ]
        }
      ]
    }
  ]
}