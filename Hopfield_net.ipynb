{
  "nbformat": 4,
  "nbformat_minor": 0,
  "metadata": {
    "colab": {
      "name": "Hopfield net.ipynb",
      "provenance": [],
      "collapsed_sections": []
    },
    "kernelspec": {
      "name": "python3",
      "display_name": "Python 3"
    },
    "language_info": {
      "name": "python"
    }
  },
  "cells": [
    {
      "cell_type": "markdown",
      "source": [
        "Shibu Mohapatra\n",
        "\n",
        "Artificial intelligence"
      ],
      "metadata": {
        "id": "5-2WHjRuP43f"
      }
    },
    {
      "cell_type": "markdown",
      "metadata": {
        "id": "h8tZSUaU1quB"
      },
      "source": [
        "**Design and train the Hopfield net to map the input vector with the stored vector and correct them**"
      ]
    },
    {
      "cell_type": "code",
      "source": [
        "import numpy as np\n",
        "import random\n",
        "from random import shuffle"
      ],
      "metadata": {
        "id": "qNqU4Eg1X1F6"
      },
      "execution_count": 1,
      "outputs": []
    },
    {
      "cell_type": "code",
      "source": [
        "y = np.array([1,1,0,0,0,0])\n",
        "print(y)"
      ],
      "metadata": {
        "colab": {
          "base_uri": "https://localhost:8080/"
        },
        "id": "mZz0Z7jkX2q4",
        "outputId": "07f54579-edf0-4df7-e0f6-eed1379bae49"
      },
      "execution_count": 2,
      "outputs": [
        {
          "output_type": "stream",
          "name": "stdout",
          "text": [
            "[1 1 0 0 0 0]\n"
          ]
        }
      ]
    },
    {
      "cell_type": "code",
      "source": [
        "for i in range(6):\n",
        "    y[i] = y[i]*2-1\n",
        "print(y)"
      ],
      "metadata": {
        "colab": {
          "base_uri": "https://localhost:8080/"
        },
        "id": "CXGNQTtvX43a",
        "outputId": "3eb42aac-fb46-4fac-ef2b-7747e3ddd7f3"
      },
      "execution_count": 3,
      "outputs": [
        {
          "output_type": "stream",
          "name": "stdout",
          "text": [
            "[ 1  1 -1 -1 -1 -1]\n"
          ]
        }
      ]
    },
    {
      "cell_type": "code",
      "source": [
        "def create_W(x):\n",
        "    w = np.zeros([len(x),len(x)])\n",
        "    for i in range(len(x)):\n",
        "        for j in range(i,len(x)):\n",
        "                if i == j:\n",
        "                    w[i,j] = 0\n",
        "                else:\n",
        "                    w[i,j] = x[i]*x[j]\n",
        "                    w[j,i] = w[i,j]\n",
        "    return w\n",
        "\n",
        "w = create_W(y)\n",
        "print(w)"
      ],
      "metadata": {
        "colab": {
          "base_uri": "https://localhost:8080/"
        },
        "id": "0v15Z6QrX7VZ",
        "outputId": "e328e5e0-4e30-4f22-a0a0-7c16c1859fcd"
      },
      "execution_count": 4,
      "outputs": [
        {
          "output_type": "stream",
          "name": "stdout",
          "text": [
            "[[ 0.  1. -1. -1. -1. -1.]\n",
            " [ 1.  0. -1. -1. -1. -1.]\n",
            " [-1. -1.  0.  1.  1.  1.]\n",
            " [-1. -1.  1.  0.  1.  1.]\n",
            " [-1. -1.  1.  1.  0.  1.]\n",
            " [-1. -1.  1.  1.  1.  0.]]\n"
          ]
        }
      ]
    },
    {
      "cell_type": "code",
      "source": [
        "y_vec = np.array([1,1,0,0,1,1])\n",
        "\n",
        "for i in range(6):\n",
        "    y_vec[i] = y_vec[i]*2-1\n",
        "    \n",
        "print(y_vec)"
      ],
      "metadata": {
        "colab": {
          "base_uri": "https://localhost:8080/"
        },
        "id": "C8MKbU4bX-bD",
        "outputId": "805df6bc-d193-4d70-e193-fb0556e474f4"
      },
      "execution_count": 5,
      "outputs": [
        {
          "output_type": "stream",
          "name": "stdout",
          "text": [
            "[ 1  1 -1 -1  1  1]\n"
          ]
        }
      ]
    },
    {
      "cell_type": "code",
      "source": [
        "def update(w,y_vec):\n",
        "    i = np.array([0,1,2,3,4,5])\n",
        "    shuffle(i)\n",
        "    for j in i :\n",
        "        u = np.dot(w[j][:],y_vec)\n",
        "\n",
        "        if u > 0:\n",
        "            y_vec[j] = 1\n",
        "        elif u < 0:\n",
        "            y_vec[j] = -1\n",
        "\n",
        "    return y_vec\n",
        "    \n",
        "print(y_vec)"
      ],
      "metadata": {
        "colab": {
          "base_uri": "https://localhost:8080/"
        },
        "id": "OcnrskygYB73",
        "outputId": "6d563fd9-88c1-4c8f-ee63-1fd414c1aff4"
      },
      "execution_count": 6,
      "outputs": [
        {
          "output_type": "stream",
          "name": "stdout",
          "text": [
            "[ 1  1 -1 -1  1  1]\n"
          ]
        }
      ]
    },
    {
      "cell_type": "code",
      "source": [
        "i=0\n",
        "while i<1 :\n",
        "    print(y_vec)\n",
        "    ycheck = y_vec\n",
        "    update(w,y_vec)\n",
        "    print(\" --> \",y_vec)\n",
        "    k=0\n",
        "    for j in range(6) :\n",
        "        if ycheck[j] == y_vec[j] :\n",
        "            k = k+1\n",
        "    if(k==6):\n",
        "        i=1\n",
        "        \n",
        "print(\"final stable point : \",y_vec)   "
      ],
      "metadata": {
        "colab": {
          "base_uri": "https://localhost:8080/"
        },
        "id": "8X3bj5r_YFaN",
        "outputId": "8e9cf950-bb37-4f09-e10d-1d6830469f05"
      },
      "execution_count": 7,
      "outputs": [
        {
          "output_type": "stream",
          "name": "stdout",
          "text": [
            "[ 1  1 -1 -1  1  1]\n",
            " -->  [ 1  1 -1 -1 -1 -1]\n",
            "final stable point :  [ 1  1 -1 -1 -1 -1]\n"
          ]
        }
      ]
    }
  ]
}