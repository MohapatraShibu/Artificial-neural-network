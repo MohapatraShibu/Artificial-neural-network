{
  "nbformat": 4,
  "nbformat_minor": 0,
  "metadata": {
    "colab": {
      "name": "XOR MLP problem.ipynb",
      "provenance": [],
      "collapsed_sections": []
    },
    "kernelspec": {
      "name": "python3",
      "display_name": "Python 3"
    },
    "language_info": {
      "name": "python"
    }
  },
  "cells": [
    {
      "cell_type": "markdown",
      "source": [
        "Shibu Mohapatra\n",
        "\n",
        "MSC CS Artificial Intelligence"
      ],
      "metadata": {
        "id": "IDGVUX9hlWk6"
      }
    },
    {
      "cell_type": "markdown",
      "metadata": {
        "id": "IMH2FkL6EH0S"
      },
      "source": [
        "**Program to solve XOR Problem. Solution to XOR in (MLP) Multi-Layer Perceptron.**"
      ]
    },
    {
      "cell_type": "code",
      "source": [
        "import numpy as np\n",
        "import matplotlib.pyplot as plt\n",
        "\n",
        "n_x = 2 # number of neurons in input layer\n",
        "n_h = 8 # number of neurons in hidden layer\n",
        "n_y = 1 # number of neurons in output layer\n",
        "\n",
        "X = np.array([[0, 0], [0, 1], [1, 0], [1, 1]]).T\n",
        "y = np.array([0, 1, 1, 0])\n",
        "print(X.shape)\n",
        "print(y.shape)"
      ],
      "metadata": {
        "colab": {
          "base_uri": "https://localhost:8080/"
        },
        "id": "uZv4RrceW3zs",
        "outputId": "91d0082c-4cee-4391-9589-1e0e9171a8a5"
      },
      "execution_count": 1,
      "outputs": [
        {
          "output_type": "stream",
          "name": "stdout",
          "text": [
            "(2, 4)\n",
            "(4,)\n"
          ]
        }
      ]
    },
    {
      "cell_type": "code",
      "source": [
        "print(X)\n",
        "print(y)"
      ],
      "metadata": {
        "colab": {
          "base_uri": "https://localhost:8080/"
        },
        "id": "rwAbJQmkXBop",
        "outputId": "62f8417b-687e-4a65-902d-9e8c4c1f7289"
      },
      "execution_count": 2,
      "outputs": [
        {
          "output_type": "stream",
          "name": "stdout",
          "text": [
            "[[0 0 1 1]\n",
            " [0 1 0 1]]\n",
            "[0 1 1 0]\n"
          ]
        }
      ]
    },
    {
      "cell_type": "code",
      "source": [
        "def forward_prop(X, y, params):\n",
        "  W1 = params['W1']\n",
        "  b1 = params['b1']\n",
        "  W2 = params['W2']\n",
        "  b2 = params['b2']\n",
        "\n",
        "  m = X.shape[0]\n",
        "\n",
        "  Z1 = np.dot(W1, X) + b1\n",
        "  A1 = np.maximum(0, Z1)\n",
        "\n",
        "  Z2 = np.dot(W2, A1) + b2\n",
        "  A2 = 1/(1 + np.exp(-Z2))\n",
        "\n",
        "  loss = (-1 / m) * np.sum(y * np.log(A2) + (1-y) * np.log(1-A2))\n",
        "\n",
        "  return Z1, A1, Z2, A2, loss"
      ],
      "metadata": {
        "id": "vqwaqt4kXqkG"
      },
      "execution_count": 3,
      "outputs": []
    },
    {
      "cell_type": "code",
      "source": [
        "def backward_prop(X, y, params):\n",
        "\n",
        "  W1 = params['W1']\n",
        "  b1 = params['b1']\n",
        "  W2 = params['W2']\n",
        "  b2 = params['b2']\n",
        "\n",
        "  Z1, A1, Z2, A2, loss = forward_prop(X, y, params)\n",
        "\n",
        "  dloss_A2 = - (np.divide(y, A2) - np.divide(1 - y, 1 - A2)) \n",
        "  dloss_Z2 = dloss_A2 * (A2 * (1 - A2))\n",
        "  dloss_A1 = np.dot(W2.T, dloss_Z2)\n",
        "  dloss_W2 = (1/A1.shape[1]) * np.dot(dloss_Z2, A1.T)\n",
        "  dloss_b2 = (1/A1.shape[1]) * np.dot(dloss_Z2, np.ones([dloss_Z2.shape[1],1]))\n",
        "\n",
        "  dloss_Z1 = dloss_A1 * ((Z1 >= 0) * 1)\n",
        "  dloss_A0 = np.dot(W1.T, dloss_Z1)\n",
        "  dloss_W1 = (1/X.shape[1]) * np.dot(dloss_Z1, X.T)\n",
        "  dloss_b1 = (1/X.shape[1]) * np.dot(dloss_Z1, np.ones([dloss_Z1.shape[1],1]))\n",
        "\n",
        "  grads = {}\n",
        "  grads['dloss_W1'] = dloss_W1\n",
        "  grads['dloss_b1'] = dloss_b1\n",
        "  grads['dloss_W2'] = dloss_W2\n",
        "  grads['dloss_b2'] = dloss_b2\n",
        "\n",
        "  return grads, loss"
      ],
      "metadata": {
        "id": "TjVG7l9iXtl7"
      },
      "execution_count": 4,
      "outputs": []
    },
    {
      "cell_type": "code",
      "source": [
        "def train_nn(X, y, learning_rate = 0.01, epochs = 250):\n",
        "\n",
        "  np.random.seed(1)\n",
        "  W1 = np.random.rand(n_h, n_x)\n",
        "  b1 = np.zeros((n_h, 1))\n",
        "\n",
        "  W2 = np.random.randn(n_y, n_h)\n",
        "  b2 = np.zeros((n_y, 1))\n",
        "  params = {'W1': W1, 'b1': b1, 'W2': W2, 'b2': b2}\n",
        "\n",
        "  losses = []\n",
        "  lst_w1 = []\n",
        "  for epoch in range(epochs):\n",
        "    grads, loss = backward_prop(X, y, params)\n",
        "    losses.append(loss)\n",
        "\n",
        "    params['W1'] = params['W1'] - learning_rate * grads['dloss_W1']\n",
        "    params['b1'] = params['b1'] - learning_rate * grads['dloss_b1']\n",
        "    params['W2'] = params['W2'] - learning_rate * grads['dloss_W2']\n",
        "    params['b2'] = params['b2'] - learning_rate * grads['dloss_b2']\n",
        "\n",
        "  return params, losses"
      ],
      "metadata": {
        "id": "1vXgZ4BKXwAJ"
      },
      "execution_count": 5,
      "outputs": []
    },
    {
      "cell_type": "code",
      "source": [
        "params, losses = train_nn(X, y, learning_rate = 0.1, epochs = 5000)\n",
        "fig, ax = plt.subplots(figsize = (12, 4))\n",
        "ax.plot(losses)\n",
        "ax.set_title('Training Loss')\n",
        "ax.set_xlabel('Number of Epochs')\n",
        "ax.set_ylabel('Cross Entropy Loss')\n",
        "plt.show()\n",
        "_, _, _, preds, loss = forward_prop(X, y, params)\n",
        "print('Ground Truth:', y)\n",
        "print('Predictions:', (preds.reshape(-1) >= 0.5) * 1)\n",
        "print('Prediction Probabilities:', preds.reshape(-1))\n",
        "print('Loss:', loss)"
      ],
      "metadata": {
        "colab": {
          "base_uri": "https://localhost:8080/",
          "height": 365
        },
        "id": "Ltz28nEzXyQD",
        "outputId": "d3907cf8-0f4d-444a-b66f-ff161821f7aa"
      },
      "execution_count": 6,
      "outputs": [
        {
          "output_type": "display_data",
          "data": {
            "image/png": "[encoded data removed]",
            "text/plain": [
              "<Figure size 864x288 with 1 Axes>"
            ]
          },
          "metadata": {
            "needs_background": "light"
          }
        },
        {
          "output_type": "stream",
          "name": "stdout",
          "text": [
            "Ground Truth: [0 1 1 0]\n",
            "Predictions: [0 1 1 0]\n",
            "Prediction Probabilities: [0.01184645 0.9978798  0.9978594  0.00148388]\n",
            "Loss: 0.008833749991272684\n"
          ]
        }
      ]
    }
  ]
}