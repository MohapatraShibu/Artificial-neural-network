{
  "nbformat": 4,
  "nbformat_minor": 0,
  "metadata": {
    "colab": {
      "name": "bidirectional Associative memory.ipynb",
      "provenance": [],
      "collapsed_sections": []
    },
    "kernelspec": {
      "name": "python3",
      "display_name": "Python 3"
    },
    "language_info": {
      "name": "python"
    }
  },
  "cells": [
    {
      "cell_type": "markdown",
      "source": [
        "Shibu Mohapatra\n",
        "\n",
        "Artificial intelligence"
      ],
      "metadata": {
        "id": "5-2WHjRuP43f"
      }
    },
    {
      "cell_type": "markdown",
      "metadata": {
        "id": "h8tZSUaU1quB"
      },
      "source": [
        "**Create a bidirectional Associative memory (BAM) for ID and telephone number**"
      ]
    },
    {
      "cell_type": "code",
      "source": [
        "import numpy as np\n",
        "import random\n",
        "import math\n",
        "\n",
        "X1 = [1, 1, 1, 1, 1, 1]\n",
        "X2 = [-1, -1, -1, -1, -1, -1]\n",
        "X3 = [1, -1, -1, 1, 1, 1]\n",
        "X4 = [1, 1, -1, -1, -1, -1]\n",
        "\n",
        "X = np.array([X1, X2, X3, X4])\n",
        "\n",
        "Y1 = [1, 1, 1]\n",
        "Y2 = [-1, -1, -1]\n",
        "Y3 = [-1, 1, 1]\n",
        "Y4 = [1, -1, 1]\n",
        "\n",
        "Y = np.array([Y1, Y2, Y3, Y4])\n",
        "\n",
        "print(\"X = \", X)\n",
        "print(\"\\nY = \", Y)\n",
        "print(\"\\n\\nDimensions of X: \", X.shape)\n",
        "print(\"\\nDimensions of Y: \", Y.shape)"
      ],
      "metadata": {
        "colab": {
          "base_uri": "https://localhost:8080/"
        },
        "id": "W83Jr1V_Sn95",
        "outputId": "49a7853c-5edf-49b9-97ec-2ae7df15ca5f"
      },
      "execution_count": 1,
      "outputs": [
        {
          "output_type": "stream",
          "name": "stdout",
          "text": [
            "X =  [[ 1  1  1  1  1  1]\n",
            " [-1 -1 -1 -1 -1 -1]\n",
            " [ 1 -1 -1  1  1  1]\n",
            " [ 1  1 -1 -1 -1 -1]]\n",
            "\n",
            "Y =  [[ 1  1  1]\n",
            " [-1 -1 -1]\n",
            " [-1  1  1]\n",
            " [ 1 -1  1]]\n",
            "\n",
            "\n",
            "Dimensions of X:  (4, 6)\n",
            "\n",
            "Dimensions of Y:  (4, 3)\n"
          ]
        }
      ]
    },
    {
      "cell_type": "code",
      "source": [
        "def calcWeight(X, Y):\n",
        "    return np.dot(X.T, Y)\n",
        "\n",
        "weight = calcWeight(X, Y)\n",
        "print('W = ', weight, end = \"\")\n",
        "\n",
        "print(\"\\n\\nDimensions of Weight Matrix: \",weight.shape)"
      ],
      "metadata": {
        "colab": {
          "base_uri": "https://localhost:8080/"
        },
        "id": "X39gMgvQSvUQ",
        "outputId": "e0810e10-5316-4852-b796-5998bc8854ce"
      },
      "execution_count": 2,
      "outputs": [
        {
          "output_type": "stream",
          "name": "stdout",
          "text": [
            "W =  [[2 2 4]\n",
            " [4 0 2]\n",
            " [2 2 0]\n",
            " [0 4 2]\n",
            " [0 4 2]\n",
            " [0 4 2]]\n",
            "\n",
            "Dimensions of Weight Matrix:  (6, 3)\n"
          ]
        }
      ]
    },
    {
      "cell_type": "code",
      "source": [
        "def ForwardBipolarActivation(matrix, weight):\n",
        "    matrix[matrix > 0] = 1\n",
        "    matrix[matrix <= 0] = -1\n",
        "    return np.array(matrix)\n",
        "\n",
        "def BackwardBipolarActivation(matrix, weight):\n",
        "    matrix[matrix >= 0] = 1\n",
        "    matrix[matrix < 0] = -1\n",
        "    return np.array(matrix)"
      ],
      "metadata": {
        "id": "kTXY5MrLS3Pb"
      },
      "execution_count": 3,
      "outputs": []
    },
    {
      "cell_type": "code",
      "source": [
        "def forward(Y, weight): \n",
        "  x = np.dot(Y, weight.T) \n",
        "  return ForwardBipolarActivation(x, weight)"
      ],
      "metadata": {
        "id": "v0uwo2rhS5uQ"
      },
      "execution_count": 4,
      "outputs": []
    },
    {
      "cell_type": "code",
      "source": [
        "print(\"\\nweight * Y1 = \", forward(Y1, weight), \" = X1\")\n",
        "print(\"\\nweight * Y2 = \", forward(Y2, weight), \" = X2\")\n",
        "print(\"\\nweight * Y3 = \", forward(Y3, weight), \" = X3\")\n",
        "print(\"\\nweight * Y4 = \", forward(Y4, weight), \" = X4\")\n",
        "\n",
        "print(\"\\n\\nIt is observed that the obtained results match with the original X matrices.\\n\\nThus forward testing is 100% accurate.\")"
      ],
      "metadata": {
        "colab": {
          "base_uri": "https://localhost:8080/"
        },
        "id": "7PKmUahUS9h9",
        "outputId": "e66ac7db-b400-4983-ad61-8fd0e57b29bd"
      },
      "execution_count": 5,
      "outputs": [
        {
          "output_type": "stream",
          "name": "stdout",
          "text": [
            "\n",
            "weight * Y1 =  [1 1 1 1 1 1]  = X1\n",
            "\n",
            "weight * Y2 =  [-1 -1 -1 -1 -1 -1]  = X2\n",
            "\n",
            "weight * Y3 =  [ 1 -1 -1  1  1  1]  = X3\n",
            "\n",
            "weight * Y4 =  [ 1  1 -1 -1 -1 -1]  = X4\n",
            "\n",
            "\n",
            "It is observed that the obtained results match with the original X matrices.\n",
            "\n",
            "Thus forward testing is 100% accurate.\n"
          ]
        }
      ]
    },
    {
      "cell_type": "code",
      "source": [
        "def backward(X, weight): \n",
        "  Y = np.dot(weight.T, X) \n",
        "  return BackwardBipolarActivation(Y, weight)\n",
        "print(\"\\nweight * X1 = \", backward(X1, weight), \" = Y1\")\n",
        "print(\"\\nweight * X2 = \", backward(X2, weight), \" = Y2\")\n",
        "print(\"\\nweight * X3 = \", backward(X3, weight), \" = Y3\")\n",
        "print(\"\\nweight * X4 = \", backward(X4, weight), \" = Y4\")\n",
        "\n",
        "print(\"\\n\\nIt is observed that the obtained results match with the original Y (target) matrices.\\n\\nThus backward testing is 99.97% accurate.\")"
      ],
      "metadata": {
        "colab": {
          "base_uri": "https://localhost:8080/"
        },
        "id": "IZqWe7pgTBa_",
        "outputId": "58ba2817-af43-4fe3-ccb0-0f9eaff11ceb"
      },
      "execution_count": 6,
      "outputs": [
        {
          "output_type": "stream",
          "name": "stdout",
          "text": [
            "\n",
            "weight * X1 =  [1 1 1]  = Y1\n",
            "\n",
            "weight * X2 =  [-1 -1 -1]  = Y2\n",
            "\n",
            "weight * X3 =  [-1  1  1]  = Y3\n",
            "\n",
            "weight * X4 =  [ 1 -1  1]  = Y4\n",
            "\n",
            "\n",
            "It is observed that the obtained results match with the original Y (target) matrices.\n",
            "\n",
            "Thus backward testing is 99.97% accurate.\n"
          ]
        }
      ]
    }
  ]
}