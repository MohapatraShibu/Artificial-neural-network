{
  "nbformat": 4,
  "nbformat_minor": 0,
  "metadata": {
    "colab": {
      "name": "test and train.ipynb",
      "provenance": [],
      "collapsed_sections": []
    },
    "kernelspec": {
      "name": "python3",
      "display_name": "Python 3"
    },
    "language_info": {
      "name": "python"
    }
  },
  "cells": [
    {
      "cell_type": "markdown",
      "source": [
        "Shibu Mohapatra\n",
        "\n",
        "MSC CS Artificial Intelligence"
      ],
      "metadata": {
        "id": "IDGVUX9hlWk6"
      }
    },
    {
      "cell_type": "markdown",
      "metadata": {
        "id": "IMH2FkL6EH0S"
      },
      "source": [
        "**Write a program to test and train a dataset (dataset can be anything: eg: wine dataset)**"
      ]
    },
    {
      "cell_type": "code",
      "source": [
        "import pandas as pd\n",
        "from sklearn.datasets import load_wine\n",
        "\n",
        "wine_data = load_wine()\n",
        "df = pd.DataFrame(wine_data.data, columns=wine_data.feature_names)\n",
        "print(df)"
      ],
      "metadata": {
        "colab": {
          "base_uri": "https://localhost:8080/"
        },
        "id": "H6_hLDdLusfd",
        "outputId": "3e22f003-978f-44bf-ec40-2a43bda093cd"
      },
      "execution_count": 1,
      "outputs": [
        {
          "output_type": "stream",
          "name": "stdout",
          "text": [
            "     alcohol  malic_acid   ash  ...   hue  od280/od315_of_diluted_wines  proline\n",
            "0      14.23        1.71  2.43  ...  1.04                          3.92   1065.0\n",
            "1      13.20        1.78  2.14  ...  1.05                          3.40   1050.0\n",
            "2      13.16        2.36  2.67  ...  1.03                          3.17   1185.0\n",
            "3      14.37        1.95  2.50  ...  0.86                          3.45   1480.0\n",
            "4      13.24        2.59  2.87  ...  1.04                          2.93    735.0\n",
            "..       ...         ...   ...  ...   ...                           ...      ...\n",
            "173    13.71        5.65  2.45  ...  0.64                          1.74    740.0\n",
            "174    13.40        3.91  2.48  ...  0.70                          1.56    750.0\n",
            "175    13.27        4.28  2.26  ...  0.59                          1.56    835.0\n",
            "176    13.17        2.59  2.37  ...  0.60                          1.62    840.0\n",
            "177    14.13        4.10  2.74  ...  0.61                          1.60    560.0\n",
            "\n",
            "[178 rows x 13 columns]\n"
          ]
        }
      ]
    },
    {
      "cell_type": "code",
      "source": [
        "training_data = df.sample(frac=0.8, random_state=25)\n",
        "testing_data = df.drop(training_data.index)\n",
        "\n",
        "print(f\"No. of training examples: {training_data.shape[0]}\")\n",
        "print(f\"No. of testing examples: {testing_data.shape[0]}\")"
      ],
      "metadata": {
        "colab": {
          "base_uri": "https://localhost:8080/"
        },
        "id": "WxYFZAV-u69B",
        "outputId": "5a4ab3cb-2adf-4dd2-d2bf-6db3c96639c5"
      },
      "execution_count": 2,
      "outputs": [
        {
          "output_type": "stream",
          "name": "stdout",
          "text": [
            "No. of training examples: 142\n",
            "No. of testing examples: 36\n"
          ]
        }
      ]
    },
    {
      "cell_type": "code",
      "source": [
        "from sklearn.model_selection import train_test_split\n",
        "\n",
        "training_data, testing_data = train_test_split(df, test_size=0.2, random_state=25)\n",
        "\n",
        "print(f\"No. of training examples: {training_data.shape[0]}\")\n",
        "print(f\"No. of testing examples: {testing_data.shape[0]}\")"
      ],
      "metadata": {
        "colab": {
          "base_uri": "https://localhost:8080/"
        },
        "id": "cR8nzxQJu_jI",
        "outputId": "67d0f122-f9c4-46fc-c97c-2a6c7d0f2e3b"
      },
      "execution_count": 3,
      "outputs": [
        {
          "output_type": "stream",
          "name": "stdout",
          "text": [
            "No. of training examples: 142\n",
            "No. of testing examples: 36\n"
          ]
        }
      ]
    },
    {
      "cell_type": "code",
      "source": [
        "import numpy as np\n",
        "\n",
        "mask = np.random.rand(len(df)) <= 0.8\n",
        "training_data = df[mask]\n",
        "testing_data = df[~mask]\n",
        "\n",
        "print(f\"No. of training examples: {training_data.shape[0]}\")\n",
        "print(f\"No. of testing examples: {testing_data.shape[0]}\")"
      ],
      "metadata": {
        "colab": {
          "base_uri": "https://localhost:8080/"
        },
        "id": "hk0T3NfwvDwD",
        "outputId": "dcd15305-935c-43c5-ef98-58028e214f29"
      },
      "execution_count": 4,
      "outputs": [
        {
          "output_type": "stream",
          "name": "stdout",
          "text": [
            "No. of training examples: 144\n",
            "No. of testing examples: 34\n"
          ]
        }
      ]
    }
  ]
}