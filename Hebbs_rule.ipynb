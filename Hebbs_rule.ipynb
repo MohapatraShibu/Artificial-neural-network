{
  "nbformat": 4,
  "nbformat_minor": 0,
  "metadata": {
    "colab": {
      "name": "Hebbs rule.ipynb",
      "provenance": [],
      "collapsed_sections": []
    },
    "kernelspec": {
      "name": "python3",
      "display_name": "Python 3"
    },
    "language_info": {
      "name": "python"
    }
  },
  "cells": [
    {
      "cell_type": "markdown",
      "source": [
        "Shibu Mohapatra\n",
        "\n",
        "Artificial Intelligence"
      ],
      "metadata": {
        "id": "IDGVUX9hlWk6"
      }
    },
    {
      "cell_type": "markdown",
      "metadata": {
        "id": "IMH2FkL6EH0S"
      },
      "source": [
        "**Program to implement Hebb’s rule(unsupervised learning algorithm).**"
      ]
    },
    {
      "cell_type": "code",
      "source": [
        "import numpy as np\n",
        "\n",
        "class Hebb :\n",
        "    def __init__(self) :\n",
        "        pass\n",
        "    def HebbAND(self) :\n",
        "        print (\"\\n\")\n",
        "        x1 = [1, 1, -1, -1]\n",
        "        x2 = [1, -1, 1, -1]\n",
        "        x3 = [1, 1, 1, 1]\n",
        "        y = [1, -1, -1, -1] #target\n",
        "\n",
        "        w1=0\n",
        "        w2=0\n",
        "        w3=0\n",
        "        b=0\n",
        "\n",
        "        w1n=0\n",
        "        w2n=0\n",
        "        w3n=0\n",
        "        bn=0\n",
        "\n",
        "        for i in range(0,4) :\n",
        "            w1n = w1+x1[i]*y[i]\n",
        "            w2n = w2+x2[i]*y[i]\n",
        "            bn = b+y[i]\n",
        "            print (\"[+] Weights and bias after iteration \"+str(i)+\" :\")\n",
        "            print (\"W1 :\" +str(w1n))\n",
        "            print (\"W2 :\" +str(w2n))\n",
        "            print (\"b  :\" +str(bn))\n",
        "\n",
        "            w1 = w1n\n",
        "            w2 = w2n\n",
        "            b = bn\n",
        "        print (\"\\n\")\n",
        "        print (\"Final Weights :\")\n",
        "        print (w1, w2, b)\n",
        "\n",
        "    def HebbOR(self) :\n",
        "        print (\"\\n\")\n",
        "        x1 = [1, 1, -1, -1]\n",
        "        x2 = [1, -1, 1, -1]\n",
        "        x3 = [1, 1, 1, 1]\n",
        "        y = [1, 1, 1, -1]\n",
        "\n",
        "        w1=0\n",
        "        w2=0\n",
        "        w3=0\n",
        "        b=0\n",
        "\n",
        "        w1n=0\n",
        "        w2n=0\n",
        "        w3n=0\n",
        "        bn=0\n",
        "\n",
        "        for i in range(0,4) :\n",
        "            w1n = w1+x1[i]*y[i]\n",
        "            w2n = w2+x2[i]*y[i]\n",
        "            bn = b+y[i]\n",
        "            print (\"[+] Weights and bias after iteration \"+str(i)+\" :\")\n",
        "            print (\"W1 :\" +str(w1n))\n",
        "            print (\"W2 :\" +str(w2n))\n",
        "            print (\"b  :\" +str(bn))\n",
        "\n",
        "            w1 = w1n\n",
        "            w2 = w2n\n",
        "            b = bn\n",
        "\n",
        "        print (\"Final Weights :\")\n",
        "        print (w1, w2, b)\n",
        "        "
      ],
      "metadata": {
        "id": "jsiunrBHwy1O"
      },
      "execution_count": 1,
      "outputs": []
    },
    {
      "cell_type": "code",
      "source": [
        "def main() :\n",
        "    hebb = Hebb()\n",
        "\n",
        "    print (\"[+] Choose :\")\n",
        "    print (\"\\t1. AND\")\n",
        "    print (\"\\t2. OR\")\n",
        "\n",
        "    ch = int(input())\n",
        "\n",
        "    if ch == 1 :\n",
        "        hebb.HebbAND()\n",
        "\n",
        "    if ch == 2 :\n",
        "        hebb.HebbOR()\n",
        "\n",
        "if __name__ == '__main__' :\n",
        "    main()"
      ],
      "metadata": {
        "colab": {
          "base_uri": "https://localhost:8080/"
        },
        "id": "adj97mVMXQZ8",
        "outputId": "6cadd489-a425-4c0c-b808-816208f177f4"
      },
      "execution_count": 2,
      "outputs": [
        {
          "output_type": "stream",
          "name": "stdout",
          "text": [
            "[+] Choose :\n",
            "\t1. AND\n",
            "\t2. OR\n",
            "1\n",
            "\n",
            "\n",
            "[+] Weights and bias after iteration 0 :\n",
            "W1 :1\n",
            "W2 :1\n",
            "b  :1\n",
            "[+] Weights and bias after iteration 1 :\n",
            "W1 :0\n",
            "W2 :2\n",
            "b  :0\n",
            "[+] Weights and bias after iteration 2 :\n",
            "W1 :1\n",
            "W2 :1\n",
            "b  :-1\n",
            "[+] Weights and bias after iteration 3 :\n",
            "W1 :2\n",
            "W2 :2\n",
            "b  :-2\n",
            "\n",
            "\n",
            "Final Weights :\n",
            "2 2 -2\n"
          ]
        }
      ]
    }
  ]
}