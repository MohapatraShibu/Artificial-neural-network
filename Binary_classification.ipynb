{
  "nbformat": 4,
  "nbformat_minor": 0,
  "metadata": {
    "colab": {
      "name": "Binary classification.ipynb",
      "provenance": [],
      "collapsed_sections": []
    },
    "kernelspec": {
      "name": "python3",
      "display_name": "Python 3"
    },
    "language_info": {
      "name": "python"
    }
  },
  "cells": [
    {
      "cell_type": "markdown",
      "source": [
        "Shibu Mohapatra\n",
        "\n",
        "MSC CS Artificial Intelligence"
      ],
      "metadata": {
        "id": "IDGVUX9hlWk6"
      }
    },
    {
      "cell_type": "markdown",
      "metadata": {
        "id": "Je_hFiy9IEL3"
      },
      "source": [
        "**Binary classification using Python and interpret and predict the output for given data.**"
      ]
    },
    {
      "cell_type": "code",
      "source": [
        "# modules\n",
        "import pandas as pd\n",
        "import numpy as np\n",
        "import matplotlib.pyplot as plt\n",
        "from sklearn.preprocessing import LabelEncoder\n",
        "from keras.wrappers.scikit_learn import KerasClassifier\n",
        "from keras.utils import np_utils\n",
        "\n",
        "# for modeling\n",
        "from keras.models import Sequential\n",
        "from keras.layers import Dense, Dropout\n",
        "from keras.callbacks import EarlyStopping"
      ],
      "metadata": {
        "id": "g2gteTqccLDY"
      },
      "execution_count": 23,
      "outputs": []
    },
    {
      "cell_type": "code",
      "source": [
        "# read data\n",
        "df = pd.read_csv('https://raw.githubusercontent.com/agconti/kaggle-titanic/master/data/train.csv')\n",
        "df.info()"
      ],
      "metadata": {
        "colab": {
          "base_uri": "https://localhost:8080/"
        },
        "id": "t0JGzZChcWjk",
        "outputId": "f7b7291e-9989-4d0b-aa99-a16bb4872020"
      },
      "execution_count": 24,
      "outputs": [
        {
          "output_type": "stream",
          "name": "stdout",
          "text": [
            "<class 'pandas.core.frame.DataFrame'>\n",
            "RangeIndex: 891 entries, 0 to 890\n",
            "Data columns (total 12 columns):\n",
            " #   Column       Non-Null Count  Dtype  \n",
            "---  ------       --------------  -----  \n",
            " 0   PassengerId  891 non-null    int64  \n",
            " 1   Survived     891 non-null    int64  \n",
            " 2   Pclass       891 non-null    int64  \n",
            " 3   Name         891 non-null    object \n",
            " 4   Sex          891 non-null    object \n",
            " 5   Age          714 non-null    float64\n",
            " 6   SibSp        891 non-null    int64  \n",
            " 7   Parch        891 non-null    int64  \n",
            " 8   Ticket       891 non-null    object \n",
            " 9   Fare         891 non-null    float64\n",
            " 10  Cabin        204 non-null    object \n",
            " 11  Embarked     889 non-null    object \n",
            "dtypes: float64(2), int64(5), object(5)\n",
            "memory usage: 83.7+ KB\n"
          ]
        }
      ]
    },
    {
      "cell_type": "code",
      "source": [
        "# delete the cabin column\n",
        "df.drop(['Cabin'], axis=1, inplace=True)\n",
        "\n",
        "# impute the 'Age' column\n",
        "df['Age'].fillna(df['Age'].mean(), inplace=True)\n",
        "\n",
        "# ditch the two rows from 'Embarked'\n",
        "df.dropna(inplace=True)\n",
        "df.info()"
      ],
      "metadata": {
        "colab": {
          "base_uri": "https://localhost:8080/"
        },
        "id": "e2Z30ocmcZ9w",
        "outputId": "bd01364c-b0f4-4c4f-e09f-901af16a6b4f"
      },
      "execution_count": 25,
      "outputs": [
        {
          "output_type": "stream",
          "name": "stdout",
          "text": [
            "<class 'pandas.core.frame.DataFrame'>\n",
            "Int64Index: 889 entries, 0 to 890\n",
            "Data columns (total 11 columns):\n",
            " #   Column       Non-Null Count  Dtype  \n",
            "---  ------       --------------  -----  \n",
            " 0   PassengerId  889 non-null    int64  \n",
            " 1   Survived     889 non-null    int64  \n",
            " 2   Pclass       889 non-null    int64  \n",
            " 3   Name         889 non-null    object \n",
            " 4   Sex          889 non-null    object \n",
            " 5   Age          889 non-null    float64\n",
            " 6   SibSp        889 non-null    int64  \n",
            " 7   Parch        889 non-null    int64  \n",
            " 8   Ticket       889 non-null    object \n",
            " 9   Fare         889 non-null    float64\n",
            " 10  Embarked     889 non-null    object \n",
            "dtypes: float64(2), int64(5), object(4)\n",
            "memory usage: 83.3+ KB\n"
          ]
        }
      ]
    },
    {
      "cell_type": "code",
      "source": [
        "# drop unncessary columns from train and testdf\n",
        "df.drop(['PassengerId', 'Name', 'Ticket'], axis=1, inplace=True)\n",
        "\n",
        "# recode the sex column\n",
        "df['Sex'].replace(('male', 'female'), (0, 1), inplace=True)\n",
        "\n",
        "# recode the embarked column\n",
        "df['Embarked'].replace(('Q', 'S', 'C'), (0, 1, 2), inplace=True)\n",
        "\n",
        "df.info()"
      ],
      "metadata": {
        "colab": {
          "base_uri": "https://localhost:8080/"
        },
        "id": "QYYly1qOc5qX",
        "outputId": "89caba3d-bddc-4dd1-bff0-6aa64e04cc7b"
      },
      "execution_count": 26,
      "outputs": [
        {
          "output_type": "stream",
          "name": "stdout",
          "text": [
            "<class 'pandas.core.frame.DataFrame'>\n",
            "Int64Index: 889 entries, 0 to 890\n",
            "Data columns (total 8 columns):\n",
            " #   Column    Non-Null Count  Dtype  \n",
            "---  ------    --------------  -----  \n",
            " 0   Survived  889 non-null    int64  \n",
            " 1   Pclass    889 non-null    int64  \n",
            " 2   Sex       889 non-null    int64  \n",
            " 3   Age       889 non-null    float64\n",
            " 4   SibSp     889 non-null    int64  \n",
            " 5   Parch     889 non-null    int64  \n",
            " 6   Fare      889 non-null    float64\n",
            " 7   Embarked  889 non-null    int64  \n",
            "dtypes: float64(2), int64(6)\n",
            "memory usage: 62.5 KB\n"
          ]
        }
      ]
    },
    {
      "cell_type": "code",
      "source": [
        "# check distribution of target variable\n",
        "df['Survived'].value_counts()"
      ],
      "metadata": {
        "colab": {
          "base_uri": "https://localhost:8080/"
        },
        "id": "wmxDBmt1dEhr",
        "outputId": "08c53f0a-2d21-4086-d1bd-b935b73860a0"
      },
      "execution_count": 27,
      "outputs": [
        {
          "output_type": "execute_result",
          "data": {
            "text/plain": [
              "0    549\n",
              "1    340\n",
              "Name: Survived, dtype: int64"
            ]
          },
          "metadata": {},
          "execution_count": 27
        }
      ]
    },
    {
      "cell_type": "code",
      "source": [
        "(549/(549+340))"
      ],
      "metadata": {
        "colab": {
          "base_uri": "https://localhost:8080/"
        },
        "id": "x1S7o9R_dGj1",
        "outputId": "afb9e9c5-a998-4ec9-c74c-dbbff3f8abdb"
      },
      "execution_count": 28,
      "outputs": [
        {
          "output_type": "execute_result",
          "data": {
            "text/plain": [
              "0.6175478065241845"
            ]
          },
          "metadata": {},
          "execution_count": 28
        }
      ]
    },
    {
      "cell_type": "code",
      "source": [
        "Y = df['Survived']\n",
        "X = df.drop(['Survived'], axis=1)\n",
        "\n",
        "print(X.shape)\n",
        "print(Y.shape)\n",
        "X = np.array(X)"
      ],
      "metadata": {
        "colab": {
          "base_uri": "https://localhost:8080/"
        },
        "id": "j95VFud6dJP-",
        "outputId": "a8201f52-4778-46b3-836b-e155033f25ec"
      },
      "execution_count": 29,
      "outputs": [
        {
          "output_type": "stream",
          "name": "stdout",
          "text": [
            "(889, 7)\n",
            "(889,)\n"
          ]
        }
      ]
    },
    {
      "cell_type": "code",
      "source": [
        "# build a model\n",
        "model = Sequential()\n",
        "model.add(Dense(16, input_shape=(X.shape[1],), activation='relu')) # Add an input shape! (features,)\n",
        "model.add(Dense(16, activation='relu'))\n",
        "model.add(Dense(1, activation='sigmoid'))\n",
        "model.summary() \n",
        "\n",
        "# compile the model\n",
        "model.compile(optimizer='Adam', \n",
        "              loss='binary_crossentropy',\n",
        "              metrics=['accuracy'])\n",
        "\n",
        "# early stopping callback\n",
        "# This callback will stop the training when there is no improvement in  \n",
        "# the validation loss for 10 consecutive epochs.  \n",
        "es = EarlyStopping(monitor='val_accuracy', \n",
        "                                   mode='max', # don't minimize the accuracy!\n",
        "                                   patience=10,\n",
        "                                   restore_best_weights=True)\n",
        "\n",
        "# model fit call\n",
        "history = model.fit(X,\n",
        "                    Y,\n",
        "                    callbacks=[es],\n",
        "                    epochs=80, # you can set this to a big number!\n",
        "                    batch_size=10,\n",
        "                    validation_split=0.2,\n",
        "                    shuffle=True,\n",
        "                    verbose=1)"
      ],
      "metadata": {
        "colab": {
          "base_uri": "https://localhost:8080/"
        },
        "id": "YFSL48FBdM_W",
        "outputId": "47be7e3e-6cc9-4820-e158-c29b6a632738"
      },
      "execution_count": 30,
      "outputs": [
        {
          "output_type": "stream",
          "name": "stdout",
          "text": [
            "Model: \"sequential_2\"\n",
            "_________________________________________________________________\n",
            " Layer (type)                Output Shape              Param #   \n",
            "=================================================================\n",
            " dense_6 (Dense)             (None, 16)                128       \n",
            "                                                                 \n",
            " dense_7 (Dense)             (None, 16)                272       \n",
            "                                                                 \n",
            " dense_8 (Dense)             (None, 1)                 17        \n",
            "                                                                 \n",
            "=================================================================\n",
            "Total params: 417\n",
            "Trainable params: 417\n",
            "Non-trainable params: 0\n",
            "_________________________________________________________________\n",
            "Epoch 1/80\n",
            "72/72 [==============================] - 1s 4ms/step - loss: 1.7698 - accuracy: 0.5134 - val_loss: 0.5600 - val_accuracy: 0.7022\n",
            "Epoch 2/80\n",
            "72/72 [==============================] - 0s 2ms/step - loss: 0.6319 - accuracy: 0.6709 - val_loss: 0.5740 - val_accuracy: 0.6966\n",
            "Epoch 3/80\n",
            "72/72 [==============================] - 0s 2ms/step - loss: 0.6057 - accuracy: 0.6751 - val_loss: 0.5935 - val_accuracy: 0.7191\n",
            "Epoch 4/80\n",
            "72/72 [==============================] - 0s 2ms/step - loss: 0.6197 - accuracy: 0.6667 - val_loss: 0.5399 - val_accuracy: 0.7191\n",
            "Epoch 5/80\n",
            "72/72 [==============================] - 0s 3ms/step - loss: 0.6163 - accuracy: 0.6737 - val_loss: 0.5170 - val_accuracy: 0.7135\n",
            "Epoch 6/80\n",
            "72/72 [==============================] - 0s 2ms/step - loss: 0.6117 - accuracy: 0.6850 - val_loss: 0.5136 - val_accuracy: 0.7416\n",
            "Epoch 7/80\n",
            "72/72 [==============================] - 0s 2ms/step - loss: 0.5816 - accuracy: 0.7004 - val_loss: 0.5105 - val_accuracy: 0.7584\n",
            "Epoch 8/80\n",
            "72/72 [==============================] - 0s 2ms/step - loss: 0.5818 - accuracy: 0.6934 - val_loss: 0.5024 - val_accuracy: 0.7640\n",
            "Epoch 9/80\n",
            "72/72 [==============================] - 0s 2ms/step - loss: 0.5866 - accuracy: 0.7046 - val_loss: 0.4858 - val_accuracy: 0.7584\n",
            "Epoch 10/80\n",
            "72/72 [==============================] - 0s 2ms/step - loss: 0.5703 - accuracy: 0.7103 - val_loss: 0.4805 - val_accuracy: 0.7697\n",
            "Epoch 11/80\n",
            "72/72 [==============================] - 0s 2ms/step - loss: 0.5647 - accuracy: 0.7060 - val_loss: 0.4798 - val_accuracy: 0.7809\n",
            "Epoch 12/80\n",
            "72/72 [==============================] - 0s 2ms/step - loss: 0.5557 - accuracy: 0.7426 - val_loss: 0.5690 - val_accuracy: 0.7135\n",
            "Epoch 13/80\n",
            "72/72 [==============================] - 0s 2ms/step - loss: 0.5390 - accuracy: 0.7314 - val_loss: 0.4663 - val_accuracy: 0.8034\n",
            "Epoch 14/80\n",
            "72/72 [==============================] - 0s 2ms/step - loss: 0.5611 - accuracy: 0.7257 - val_loss: 0.5099 - val_accuracy: 0.6910\n",
            "Epoch 15/80\n",
            "72/72 [==============================] - 0s 2ms/step - loss: 0.5894 - accuracy: 0.7300 - val_loss: 0.5130 - val_accuracy: 0.7584\n",
            "Epoch 16/80\n",
            "72/72 [==============================] - 0s 2ms/step - loss: 0.5178 - accuracy: 0.7468 - val_loss: 0.4636 - val_accuracy: 0.8315\n",
            "Epoch 17/80\n",
            "72/72 [==============================] - 0s 2ms/step - loss: 0.5229 - accuracy: 0.7609 - val_loss: 0.4595 - val_accuracy: 0.7865\n",
            "Epoch 18/80\n",
            "72/72 [==============================] - 0s 2ms/step - loss: 0.5121 - accuracy: 0.7581 - val_loss: 0.4631 - val_accuracy: 0.8146\n",
            "Epoch 19/80\n",
            "72/72 [==============================] - 0s 2ms/step - loss: 0.5209 - accuracy: 0.7623 - val_loss: 0.4507 - val_accuracy: 0.8202\n",
            "Epoch 20/80\n",
            "72/72 [==============================] - 0s 2ms/step - loss: 0.5317 - accuracy: 0.7412 - val_loss: 0.4297 - val_accuracy: 0.8371\n",
            "Epoch 21/80\n",
            "72/72 [==============================] - 0s 2ms/step - loss: 0.5082 - accuracy: 0.7693 - val_loss: 0.4157 - val_accuracy: 0.8371\n",
            "Epoch 22/80\n",
            "72/72 [==============================] - 0s 2ms/step - loss: 0.4894 - accuracy: 0.7707 - val_loss: 0.4286 - val_accuracy: 0.8315\n",
            "Epoch 23/80\n",
            "72/72 [==============================] - 0s 2ms/step - loss: 0.5044 - accuracy: 0.7792 - val_loss: 0.4033 - val_accuracy: 0.8483\n",
            "Epoch 24/80\n",
            "72/72 [==============================] - 0s 2ms/step - loss: 0.4830 - accuracy: 0.7904 - val_loss: 0.4056 - val_accuracy: 0.8483\n",
            "Epoch 25/80\n",
            "72/72 [==============================] - 0s 2ms/step - loss: 0.4845 - accuracy: 0.7806 - val_loss: 0.4118 - val_accuracy: 0.8315\n",
            "Epoch 26/80\n",
            "72/72 [==============================] - 0s 2ms/step - loss: 0.4975 - accuracy: 0.7792 - val_loss: 0.3877 - val_accuracy: 0.8483\n",
            "Epoch 27/80\n",
            "72/72 [==============================] - 0s 2ms/step - loss: 0.4755 - accuracy: 0.7820 - val_loss: 0.3899 - val_accuracy: 0.8483\n",
            "Epoch 28/80\n",
            "72/72 [==============================] - 0s 2ms/step - loss: 0.4734 - accuracy: 0.7890 - val_loss: 0.4076 - val_accuracy: 0.8371\n",
            "Epoch 29/80\n",
            "72/72 [==============================] - 0s 2ms/step - loss: 0.4731 - accuracy: 0.7834 - val_loss: 0.4637 - val_accuracy: 0.7865\n",
            "Epoch 30/80\n",
            "72/72 [==============================] - 0s 2ms/step - loss: 0.4856 - accuracy: 0.7848 - val_loss: 0.4360 - val_accuracy: 0.8034\n",
            "Epoch 31/80\n",
            "72/72 [==============================] - 0s 2ms/step - loss: 0.4777 - accuracy: 0.7806 - val_loss: 0.3736 - val_accuracy: 0.8483\n",
            "Epoch 32/80\n",
            "72/72 [==============================] - 0s 2ms/step - loss: 0.4652 - accuracy: 0.7890 - val_loss: 0.4373 - val_accuracy: 0.8146\n",
            "Epoch 33/80\n",
            "72/72 [==============================] - 0s 2ms/step - loss: 0.5054 - accuracy: 0.7904 - val_loss: 0.4879 - val_accuracy: 0.7978\n"
          ]
        }
      ]
    },
    {
      "cell_type": "code",
      "source": [
        "history_dict = history.history\n",
        "# Learning curve(Loss)\n",
        "# tthe training and validation loss by epoch\n",
        "\n",
        "# loss\n",
        "loss_values = history_dict['loss'] # you can change this\n",
        "val_loss_values = history_dict['val_loss'] # you can also change this\n",
        "\n",
        "# range of X (no. of epochs)\n",
        "epochs = range(1, len(loss_values) + 1) \n",
        "\n",
        "# plot\n",
        "plt.plot(epochs, loss_values, 'bo', label='Training loss')\n",
        "plt.plot(epochs, val_loss_values, 'orange', label='Validation loss')\n",
        "plt.title('Training and validation loss')\n",
        "plt.xlabel('Epochs')\n",
        "plt.ylabel('Loss')\n",
        "plt.legend()\n",
        "plt.show()"
      ],
      "metadata": {
        "colab": {
          "base_uri": "https://localhost:8080/",
          "height": 295
        },
        "id": "3JBVyIQ9ddhN",
        "outputId": "6e36604c-7a72-4db9-c93e-fb443c724ac4"
      },
      "execution_count": 31,
      "outputs": [
        {
          "output_type": "display_data",
          "data": {
            "image/png": "[encoded data removed]",
            "text/plain": [
              "<Figure size 432x288 with 1 Axes>"
            ]
          },
          "metadata": {
            "needs_background": "light"
          }
        }
      ]
    },
    {
      "cell_type": "code",
      "source": [
        "# Learning curve(accuracy)\n",
        "# the training and validation accuracy by epoch\n",
        "\n",
        "# accuracy\n",
        "acc = history.history['accuracy']\n",
        "val_acc = history.history['val_accuracy']\n",
        "\n",
        "# range of X (no. of epochs)\n",
        "epochs = range(1, len(acc) + 1)\n",
        "\n",
        "# plot\n",
        "# \"bo\" is for \"blue dot\"\n",
        "plt.plot(epochs, acc, 'bo', label='Training accuracy')\n",
        "# orange is for \"orange\"\n",
        "plt.plot(epochs, val_acc, 'orange', label='Validation accuracy')\n",
        "plt.title('Training and validation accuracy')\n",
        "plt.xlabel('Epochs')\n",
        "plt.ylabel('Accuracy')\n",
        "plt.legend()\n",
        "plt.show()\n",
        "\n",
        "# this is the max value - should correspond to\n",
        "# the HIGHEST train accuracy\n",
        "np.max(val_acc)"
      ],
      "metadata": {
        "colab": {
          "base_uri": "https://localhost:8080/",
          "height": 313
        },
        "id": "VYWd7lpldhgE",
        "outputId": "af67d62a-d9d5-421c-f081-0ef35d156342"
      },
      "execution_count": 32,
      "outputs": [
        {
          "output_type": "display_data",
          "data": {
            "image/png": "[encoded data removed]",
            "text/plain": [
              "<Figure size 432x288 with 1 Axes>"
            ]
          },
          "metadata": {
            "needs_background": "light"
          }
        },
        {
          "output_type": "execute_result",
          "data": {
            "text/plain": [
              "0.8483145833015442"
            ]
          },
          "metadata": {},
          "execution_count": 32
        }
      ]
    },
    {
      "cell_type": "code",
      "source": [
        "from sklearn.metrics import confusion_matrix\n",
        "from sklearn.metrics import classification_report\n",
        "\n",
        "# see how these are numbers between 0 and 1? \n",
        "model.predict(X) # prob of successes (survival)\n",
        "np.round(model.predict(X),0) # 1 and 0 (survival or not)\n",
        "Y # 1 and 0 (survival or not)\n",
        "\n",
        "# so we need to round to a whole number (0 or 1),\n",
        "# or the confusion matrix won't work!\n",
        "preds = np.round(model.predict(X),0)\n",
        "\n",
        "# confusion matrix\n",
        "print(confusion_matrix(Y, preds)) # order matters! (actual, predicted)\n",
        "\n",
        "print(classification_report(Y, preds))"
      ],
      "metadata": {
        "colab": {
          "base_uri": "https://localhost:8080/"
        },
        "id": "kN6ZkIGAdmuR",
        "outputId": "d4b83744-0053-4316-a19a-58a705f084bc"
      },
      "execution_count": 33,
      "outputs": [
        {
          "output_type": "stream",
          "name": "stdout",
          "text": [
            "[[453  96]\n",
            " [ 77 263]]\n",
            "              precision    recall  f1-score   support\n",
            "\n",
            "           0       0.85      0.83      0.84       549\n",
            "           1       0.73      0.77      0.75       340\n",
            "\n",
            "    accuracy                           0.81       889\n",
            "   macro avg       0.79      0.80      0.80       889\n",
            "weighted avg       0.81      0.81      0.81       889\n",
            "\n"
          ]
        }
      ]
    }
  ]
}