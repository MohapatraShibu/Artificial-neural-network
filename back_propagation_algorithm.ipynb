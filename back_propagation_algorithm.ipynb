{
  "nbformat": 4,
  "nbformat_minor": 0,
  "metadata": {
    "colab": {
      "name": "back propagation algorithm.ipynb",
      "provenance": [],
      "collapsed_sections": []
    },
    "kernelspec": {
      "name": "python3",
      "display_name": "Python 3"
    },
    "language_info": {
      "name": "python"
    }
  },
  "cells": [
    {
      "cell_type": "markdown",
      "source": [
        "Shibu Mohapatra\n",
        "\n",
        "Artificial Intelligence"
      ],
      "metadata": {
        "id": "IDGVUX9hlWk6"
      }
    },
    {
      "cell_type": "markdown",
      "metadata": {
        "id": "SNCqASr_1TU9"
      },
      "source": [
        "**Write a program for back propagation algorithm.**"
      ]
    },
    {
      "cell_type": "code",
      "metadata": {
        "id": "FEVVPFf01Xsl"
      },
      "source": [
        "import numpy as np\n",
        "\n",
        "class Neural_Network(object):\n",
        "  def __init__(self, WL1=None, WL2=None):\n",
        "    #parameters\n",
        "    self.inputSize = 2\n",
        "    self.outputSize = 1\n",
        "    self.hiddenSize = 2\n",
        "    \n",
        "    #weights\n",
        "    self.WL1 = np.array(WL1) if WL1 else np.array([[0.15, 0.1], [0.2, 0.18]]) # (2x2) weight matrix from input to hidden layer\n",
        "    self.WL2 = np.array(WL2) if WL2 else np.array([0.05, 0.26]) # (2x1) weight matrix from hidden to output layer\n",
        "    \n",
        "  def forward(self, X):\n",
        "    #forward propagation through our network\n",
        "    self.HL = np.dot(X, self.WL1) # dot product of X (input) and first set of 2x2 weights\n",
        "    out = np.dot(self.HL, self.WL2) # dot product of hidden layer (HL) and second set of 2x1 weights\n",
        "    return out\n",
        "  \n",
        "  def backward(self, X, y, out, a):\n",
        "    # backward propgate through the network\n",
        "    self.delta = out - y # error in output\n",
        "    self.a = a # learning rate\n",
        "\n",
        "    _WL2 = self.a * self.delta * self.HL.T\n",
        "    _WL1 = self.a * self.delta * X.reshape(1,2).T.dot(self.WL2.reshape(1, 2))\n",
        "    print(_WL1)\n",
        "    \n",
        "    self.WL2 = self.WL2 - _WL2 # adjusting second set (hidden --> output) weights\n",
        "    self.WL1 = self.WL1 - _WL1 # adjusting first set (input --> hidden) weights"
      ],
      "execution_count": 1,
      "outputs": []
    },
    {
      "cell_type": "code",
      "metadata": {
        "colab": {
          "base_uri": "https://localhost:8080/"
        },
        "id": "oaEaurMw1hGJ",
        "outputId": "5998470a-6f40-415f-ade8-b808f40e6c8e"
      },
      "source": [
        "#defining our output \n",
        "# X = input, y = output\n",
        "X = np.array([5, 4])\n",
        "y = 2\n",
        "a = 0.01\n",
        "\n",
        "NN = Neural_Network([[0.15, 0.1], [0.2, 0.18]], [0.05, 0.26])\n",
        "\n",
        "print(\"Input:\", str(X))\n",
        "print(\"Actual Output:\", str(y))\n",
        "print(\"Learning Rate:\", str(a))\n",
        "\n",
        "predicted = NN.forward(X)\n",
        "print(\"Predicted Output:\", str(predicted))\n",
        "print(\"Loss:\", str(np.square(y - predicted)/2)) # mean sum squared loss\n",
        "\n",
        "NN.backward(X, y, predicted, a)\n",
        "print(\"Updated WL1:\\n\", NN.WL1)\n",
        "print(\"Updated WL2:\\n\", NN.WL2)\n",
        "\n",
        "predicted = NN.forward(X)\n",
        "print(\"Predicted Output:\", str(predicted))\n",
        "print(\"Loss:\", str(np.square(y - predicted)/2)) # mean sum squared loss\n",
        "\n",
        "print(\"\\n\")\n",
        "# X = input, y = output\n",
        "X = np.array([2, 3])\n",
        "y = 1\n",
        "a = 0.05\n",
        "\n",
        "NN = Neural_Network([[0.11, 0.12], [0.21, 0.08]], [0.14, 0.15])\n",
        "\n",
        "print(\"Input:\", str(X))\n",
        "print(\"Actual Output:\", str(y))\n",
        "print(\"Learning Rate:\", str(a))\n",
        "\n",
        "predicted = NN.forward(X)\n",
        "print(\"Predicted Output:\", str(predicted))\n",
        "print(\"Loss:\", str(np.square(y - predicted)/2)) # mean sum squared loss\n",
        "\n",
        "NN.backward(X, y, predicted, a)\n",
        "print(\"Updated WL1:\\n\", NN.WL1)\n",
        "print(\"Updated WL2:\\n\", NN.WL2)"
      ],
      "execution_count": 2,
      "outputs": [
        {
          "output_type": "stream",
          "name": "stdout",
          "text": [
            "Input: [5 4]\n",
            "Actual Output: 2\n",
            "Learning Rate: 0.01\n",
            "Predicted Output: 0.3947\n",
            "Loss: 1.288494045\n",
            "[[-0.00401325 -0.0208689 ]\n",
            " [-0.0032106  -0.01669512]]\n",
            "Updated WL1:\n",
            " [[0.15401325 0.1208689 ]\n",
            " [0.2032106  0.19669512]]\n",
            "Updated WL2:\n",
            " [0.07488215 0.27958466]\n",
            "Predicted Output: 0.5074688075164043\n",
            "Loss: 1.1138246802682523\n",
            "\n",
            "\n",
            "Input: [2 3]\n",
            "Actual Output: 1\n",
            "Learning Rate: 0.05\n",
            "Predicted Output: 0.191\n",
            "Loss: 0.32724049999999993\n",
            "[[-0.011326  -0.012135 ]\n",
            " [-0.016989  -0.0182025]]\n",
            "Updated WL1:\n",
            " [[0.121326  0.132135 ]\n",
            " [0.226989  0.0982025]]\n",
            "Updated WL2:\n",
            " [0.1743825 0.169416 ]\n"
          ]
        }
      ]
    }
  ]
}